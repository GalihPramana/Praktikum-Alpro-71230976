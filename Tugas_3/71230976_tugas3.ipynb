{
  "cells": [
    {
      "cell_type": "markdown",
      "source": [
        "Latihan 3.1"
      ],
      "metadata": {
        "id": "PQwF3wGKGKAb"
      }
    },
    {
      "cell_type": "code",
      "execution_count": null,
      "metadata": {
        "colab": {
          "base_uri": "https://localhost:8080/"
        },
        "id": "y1vcMXFZR5Kt",
        "outputId": "5040b309-4b96-46e9-faf5-fb0c86507d65"
      },
      "outputs": [
        {
          "output_type": "stream",
          "name": "stdout",
          "text": [
            "input suhu anda:tiga\n",
            "input anda salah\n"
          ]
        }
      ],
      "source": [
        "try:\n",
        "   suhu = int(input(\"input suhu anda:\"))\n",
        "   if suhu >= 38:\n",
        "     print(\"anda demam\")\n",
        "   elif suhu < 38:\n",
        "     print(\"anda tidak demam\")\n",
        "except:\n",
        "   print(\"input anda salah\")"
      ]
    },
    {
      "cell_type": "code",
      "execution_count": null,
      "metadata": {
        "colab": {
          "base_uri": "https://localhost:8080/"
        },
        "id": "6e9izPPqTi8l",
        "outputId": "1f836d68-993b-4584-8768-58148489720a"
      },
      "outputs": [
        {
          "output_type": "stream",
          "name": "stdout",
          "text": [
            "Masukkan suatu bilangan: tigA\n",
            "input anda salah\n"
          ]
        }
      ],
      "source": [
        "inputuser = input(\"Masukkan suatu bilangan: \")\n",
        "try:\n",
        " bilangan=int(inputuser)\n",
        " if bilangan > 0:\n",
        "      print(\"Positif\")\n",
        " elif bilangan < 0:\n",
        "      print(\"Negatif\")\n",
        " elif bilangan == 0:\n",
        "      print(\"Nol\")\n",
        "except:\n",
        "  print(\"input anda salah\")"
      ]
    },
    {
      "cell_type": "code",
      "execution_count": null,
      "metadata": {
        "colab": {
          "base_uri": "https://localhost:8080/"
        },
        "id": "g7dU6ml9Uu2l",
        "outputId": "e07a3f07-73d4-491e-9ad4-43b58d1f63a9"
      },
      "outputs": [
        {
          "output_type": "stream",
          "name": "stdout",
          "text": [
            "Masukkan bilangan pertama: satu\n",
            "Masukkan bilangan kedua: dua\n",
            "Masukkan bilangan ketiga:tiga\n",
            "input anda salah\n"
          ]
        }
      ],
      "source": [
        "input_a = input(\"Masukkan bilangan pertama: \")\n",
        "input_b = input(\"Masukkan bilangan kedua: \")\n",
        "input_c = input(\"Masukkan bilangan ketiga:\")\n",
        "\n",
        "try:\n",
        "   a = int(input_a)\n",
        "   b = int(input_b)\n",
        "   c = int(input_c)\n",
        "\n",
        "   if a > b and a > c:\n",
        "      print(\"Terbesar: \", a)\n",
        "   elif b > a and b > c:\n",
        "      print(\"Terbesar: \", b)\n",
        "   elif c > a and c > b:\n",
        "      print(\"Terbesar: \", c)\n",
        "except:\n",
        "    print(\"input anda salah\")"
      ]
    },
    {
      "cell_type": "markdown",
      "source": [
        "Latihan 3.2"
      ],
      "metadata": {
        "id": "5KuzjxYiGdmv"
      }
    },
    {
      "cell_type": "code",
      "source": [
        " bilangan = int(input(\"Masukkan suatu bilangan: \"))\n",
        "print(\"Positif\" if bilangan > 0 else \"Negatif\" if bilangan < 0 else \"Nol\")\n"
      ],
      "metadata": {
        "colab": {
          "base_uri": "https://localhost:8080/"
        },
        "id": "dkShLuaFGfmn",
        "outputId": "b0a061de-d7aa-4cb2-c6ea-5d9986ccb6f4"
      },
      "execution_count": null,
      "outputs": [
        {
          "output_type": "stream",
          "name": "stdout",
          "text": [
            "Masukkan suatu bilangan: 4\n",
            "Positif\n"
          ]
        }
      ]
    },
    {
      "cell_type": "markdown",
      "source": [
        "Latihan 3.3"
      ],
      "metadata": {
        "id": "b76gLgsWGjDq"
      }
    },
    {
      "cell_type": "code",
      "execution_count": null,
      "metadata": {
        "colab": {
          "base_uri": "https://localhost:8080/"
        },
        "id": "a0cVC4EO4irM",
        "outputId": "7a7ea5e2-43f6-48bd-b957-1160bcfbcf6c"
      },
      "outputs": [
        {
          "output_type": "stream",
          "name": "stdout",
          "text": [
            "Masukkan bulan(dalam angka)3\n",
            "jumlah hari dibulan 3: 31 hari\n"
          ]
        }
      ],
      "source": [
        "inputbulan = input(\"Masukkan bulan(dalam angka)\")\n",
        "\n",
        "try:\n",
        "    bulan = int(inputbulan)\n",
        "    if bulan == 1 or bulan == 3 or bulan == 5 or bulan == 7 or bulan == 8 or bulan == 10 or bulan == 12:\n",
        "      print(f\"jumlah hari dibulan {bulan}: 31 hari\")\n",
        "    elif bulan == 4 or bulan == 6 or bulan == 9 or bulan == 11:\n",
        "      print(f\"jumlah hari dibulan {bulan}: 30 hari\")\n",
        "    elif bulan == 2:\n",
        "      print(f\"jumlah hari dibulan {bulan}: 29 hari\")\n",
        "    elif bulan > 12 or bulan == 0:\n",
        "       print(\"Jumlah bulan dalam kalender hanya ada 12!!\")\n",
        "except:\n",
        "  print(\"input tidak valid\")"
      ]
    },
    {
      "cell_type": "markdown",
      "source": [
        "Latihan 3.4"
      ],
      "metadata": {
        "id": "i6FzNZEYGmZL"
      }
    },
    {
      "cell_type": "code",
      "execution_count": null,
      "metadata": {
        "id": "xZn3QDs8rQtt",
        "colab": {
          "base_uri": "https://localhost:8080/"
        },
        "outputId": "d5800127-6cc4-486f-8455-c19c5db73448"
      },
      "outputs": [
        {
          "output_type": "stream",
          "name": "stdout",
          "text": [
            "masukkan bilangan a: 2\n",
            "masukkan bilangan b: 3\n",
            "masukkan bilangan c: 3\n",
            "ada 2 sisi yang sama\n"
          ]
        }
      ],
      "source": [
        "inputa = input(\"masukkan bilangan a: \")\n",
        "inputb = input(\"masukkan bilangan b: \")\n",
        "inputc = input(\"masukkan bilangan c: \")\n",
        "\n",
        "try:\n",
        "   a = int(inputa)\n",
        "   b = int(inputb)\n",
        "   c = int(inputc)\n",
        "   if a != b and a != c and b != c:\n",
        "      print(\"tidak ada sisi yang sama\")\n",
        "   elif a == b and a == c and b == c:\n",
        "      print(\"semua sisi sama\")\n",
        "   elif a == b or a == c or b == c:\n",
        "      print(\"ada 2 sisi yang sama\")\n",
        "except:\n",
        "   print(\"input anda salah\")"
      ]
    }
  ],
  "metadata": {
    "colab": {
      "provenance": []
    },
    "kernelspec": {
      "display_name": "Python 3",
      "name": "python3"
    },
    "language_info": {
      "name": "python"
    }
  },
  "nbformat": 4,
  "nbformat_minor": 0
}
