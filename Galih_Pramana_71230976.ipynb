{
  "nbformat": 4,
  "nbformat_minor": 0,
  "metadata": {
    "colab": {
      "provenance": []
    },
    "kernelspec": {
      "name": "python3",
      "display_name": "Python 3"
    },
    "language_info": {
      "name": "python"
    }
  },
  "cells": [
    {
      "cell_type": "markdown",
      "source": [
        "soal 1"
      ],
      "metadata": {
        "id": "JYH8oP8I23cx"
      }
    },
    {
      "cell_type": "code",
      "source": [
        "bmi= int(input(\"masukkan bmi yang anda inginkan: \"))\n",
        "tinggi= float(input(\"masukkan tinggi banda anda (dalam meter) = \"))\n",
        "berat= bmi*tinggi**2\n",
        "\n",
        "x = round(berat)\n",
        "print(f\"berat badan yang diperlukan adalah: {x}kg\"  )"
      ],
      "metadata": {
        "id": "dLq0a7lu26Vq",
        "colab": {
          "base_uri": "https://localhost:8080/"
        },
        "outputId": "157b46f2-8594-4bca-8d9c-66f34d0daf51"
      },
      "execution_count": 4,
      "outputs": [
        {
          "output_type": "stream",
          "name": "stdout",
          "text": [
            "masukan bmi yang anda inginkan: 20\n",
            "masukan tinggi banda anda (dalam meter) = 1.75\n",
            "berat badan yang diperlukan adalah: 61kg\n"
          ]
        }
      ]
    },
    {
      "cell_type": "markdown",
      "source": [
        "soal 2"
      ],
      "metadata": {
        "id": "x-K_EzFS295B"
      }
    },
    {
      "cell_type": "code",
      "source": [
        "x = int(input(\"masukkan bilangan x: \"))\n",
        "f = (2*x**3) + (2*x) + (15/x)\n",
        "print(f\"hasil operasi bilangan adalah = {f}\")"
      ],
      "metadata": {
        "colab": {
          "base_uri": "https://localhost:8080/"
        },
        "id": "onq9GCpX2-qp",
        "outputId": "90c75e5e-45fc-4dfe-f42f-dca771813fc6"
      },
      "execution_count": null,
      "outputs": [
        {
          "output_type": "stream",
          "name": "stdout",
          "text": [
            "masukan bilangan x: 2\n",
            "hasil operasi bilangan adalah = 27.5\n"
          ]
        }
      ]
    },
    {
      "cell_type": "markdown",
      "source": [
        "soal 3"
      ],
      "metadata": {
        "id": "T6VD74a_3AgY"
      }
    },
    {
      "cell_type": "code",
      "source": [
        "gaji = int(input(\"Masukkan gaji perjam: \"))\n",
        "jam_kerja = int(input(\"Masukkan jam kerja dalam 1 minggu: \"))\n",
        "gajikotor = gaji * jam_kerja * 5\n",
        "print(f\"total gaji kotor Budi adalah: Rp{gajikotor}\")\n",
        "\n",
        "pajak = gajikotor * 14/100\n",
        "gajibersih = gajikotor - pajak\n",
        "print(f\"Total gaji bersih Budi adalah: Rp{gajibersih}\")\n",
        "\n",
        "baju = gajibersih * 10/100\n",
        "print(f\"jumlah uang untuk membeli baju dan aksesoris adalah: Rp{baju}\")\n",
        "\n",
        "atk = gajibersih * 1/100\n",
        "print(f\"jumlah uang untuk membeli alat tulis adalah: Rp{atk}\")\n",
        "\n",
        "sedekah = (gajibersih - baju - atk) * 25/100\n",
        "print(f\"jumlah uang untuk sedekah adalah: Rp{sedekah}\")\n",
        "\n",
        "yatim = (sedekah//1000) *1000 * (30/100)\n",
        "dhuafa = sedekah - yatim\n",
        "print(f\"jumlah uang untuk anak yatim: Rp{yatim}\")\n",
        "print(f\"jumlah uang untuk dhuafa: Rp{dhuafa}\")\n"
      ],
      "metadata": {
        "id": "dna4l1jv3BOo",
        "colab": {
          "base_uri": "https://localhost:8080/"
        },
        "outputId": "625897a6-d3fc-47e8-83e4-20c2171346b5"
      },
      "execution_count": 5,
      "outputs": [
        {
          "output_type": "stream",
          "name": "stdout",
          "text": [
            "Masukkan gaji perjam: 100000\n",
            "Masukkan jam kerja dalam 1 minggu: 35\n",
            "total gaji kotor Budi adalah: Rp17500000\n",
            "Total gaji bersih Budi adalah: Rp15050000.0\n",
            "jumlah uang untuk membeli baju dan aksesoris adalah: Rp1505000.0\n",
            "jumlah uang untuk membeli alat tulis adalah: Rp150500.0\n",
            "jumlah uang untuk sedekah adalah: Rp3348625.0\n",
            "jumlah uang untuk anak yatim: Rp1004400.0\n",
            "jumlah uang untuk dhuafa: Rp2344225.0\n"
          ]
        }
      ]
    }
  ]
}