{
  "nbformat": 4,
  "nbformat_minor": 0,
  "metadata": {
    "colab": {
      "provenance": []
    },
    "kernelspec": {
      "name": "python3",
      "display_name": "Python 3"
    },
    "language_info": {
      "name": "python"
    }
  },
  "cells": [
    {
      "cell_type": "code",
      "source": [
        "#Latihan Mandiri 7.1\n",
        "def anagram(h1, h2):\n",
        "    h1 = h1.lower()  # Mengubah semua huruf dalam h1 menjadi huruf kecil\n",
        "    h2 = h2.lower()  # Mengubah semua huruf dalam h2 menjadi huruf kecil\n",
        "    if sorted(h1) == sorted(h2):\n",
        "        print(\"anagram\")\n",
        "    else:\n",
        "        print(\"Tidak anagram\")\n",
        "\n",
        "h1 = str(input(\"Masukkan kata 1: \"))\n",
        "h2 = str(input(\"Masukkan kata 2: \"))\n",
        "\n",
        "anagram(h1, h2)"
      ],
      "metadata": {
        "colab": {
          "base_uri": "https://localhost:8080/"
        },
        "id": "iuNWMVD-wxwY",
        "outputId": "3d7aa7ef-d661-46bc-d410-b235cc45999d"
      },
      "execution_count": 10,
      "outputs": [
        {
          "output_type": "stream",
          "name": "stdout",
          "text": [
            "Masukkan kata 1: makan\n",
            "Masukkan kata 2: minum\n",
            "Tidak anagram\n"
          ]
        }
      ]
    },
    {
      "cell_type": "code",
      "source": [
        "#Latihan Mandiri 7.2\n",
        "def hitung_frekuensi(kalimat, kata) :\n",
        "    kalimat = kalimat.lower()\n",
        "    kata = kata.lower()\n",
        "    hasil = kalimat.count(kata)\n",
        "    print(f'{kata} ada {hasil} buah.')\n",
        "\n",
        "kalimat = input(\"masukkan kalimat : \")\n",
        "kata = input(\"masukkan kata : \")\n",
        "\n",
        "hitung_frekuensi(kalimat, kata)"
      ],
      "metadata": {
        "colab": {
          "base_uri": "https://localhost:8080/"
        },
        "id": "6uvqYkvz1FdK",
        "outputId": "3c4614a7-1aaa-44ee-a194-2930bf63d1d2"
      },
      "execution_count": 39,
      "outputs": [
        {
          "output_type": "stream",
          "name": "stdout",
          "text": [
            "masukkan kalimat : Saya mau makan. Makan itu wajib. Mau siang  atau malam saya wajib makan\n",
            "masukkan kata : makan\n",
            "makan ada 3 buah.\n"
          ]
        }
      ]
    },
    {
      "cell_type": "code",
      "source": [
        "#Latihan Mandiri 7.3\n",
        "def hapus_spasi(kalimat):\n",
        "    kalimat_tanpa_spasi = \" \".join(kalimat.split())\n",
        "    return kalimat_tanpa_spasi\n",
        "\n",
        "kalimat_input = input(\"Masukkan kalimat dengan spasi yang ingin dihapus: \")\n",
        "print(hapus_spasi(kalimat_input))"
      ],
      "metadata": {
        "colab": {
          "base_uri": "https://localhost:8080/"
        },
        "id": "ZGxDyUMW6f3T",
        "outputId": "6017f717-a7ec-4852-d0f5-06f591b5c4ec"
      },
      "execution_count": 42,
      "outputs": [
        {
          "output_type": "stream",
          "name": "stdout",
          "text": [
            "Masukkan kalimat dengan spasi yang ingin dihapus: saya      makan       nasi\n",
            "saya makan nasi\n"
          ]
        }
      ]
    },
    {
      "cell_type": "code",
      "source": [
        "#Latihan Mandiri 7.4\n",
        "def cek_kata(kalimat):\n",
        "    kata = kalimat.split()\n",
        "    terpendek = min(kata, key=len)\n",
        "    terpanjang = max(kata, key=len)\n",
        "    print(\"Kata terpendek:\", terpendek)\n",
        "    print(\"Kata terpanjang:\", terpanjang)\n",
        "\n",
        "kalimat = input(\"Masukkan kalimat: \")\n",
        "cek_kata(kalimat)\n"
      ],
      "metadata": {
        "colab": {
          "base_uri": "https://localhost:8080/"
        },
        "id": "6OTsL25b77gc",
        "outputId": "7af2d48f-5a17-4eac-ace9-b7c2faedf0e2"
      },
      "execution_count": 46,
      "outputs": [
        {
          "output_type": "stream",
          "name": "stdout",
          "text": [
            "Masukkan kalimat: \"red snakes and a black frog in the pool\n",
            "Kata terpendek: a\n",
            "Kata terpanjang: snakes\n"
          ]
        }
      ]
    },
    {
      "cell_type": "code",
      "source": [],
      "metadata": {
        "id": "WM9QwsS9wkth"
      },
      "execution_count": null,
      "outputs": []
    }
  ]
}