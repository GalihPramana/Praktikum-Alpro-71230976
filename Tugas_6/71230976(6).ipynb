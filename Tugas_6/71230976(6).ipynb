{
  "nbformat": 4,
  "nbformat_minor": 0,
  "metadata": {
    "colab": {
      "provenance": []
    },
    "kernelspec": {
      "name": "python3",
      "display_name": "Python 3"
    },
    "language_info": {
      "name": "python"
    }
  },
  "cells": [
    {
      "cell_type": "code",
      "source": [
        "#Latihan Mandiri 6.1\n",
        "def is_prime(n):\n",
        "    if n <= 1:\n",
        "        return False\n",
        "    for i in range(2, int(n**0.5) + 1):\n",
        "        if n % i == 0:\n",
        "            return False\n",
        "    return True\n",
        "\n",
        "N = int(input(\"Masukkan bilangan: \"))\n",
        "for i in range(N - 1, 1, -1):\n",
        "    if is_prime(i):\n",
        "        print(f\"input n = {N}, maka prima terdekat < {N} adalah {i}\")\n",
        "        break\n"
      ],
      "metadata": {
        "colab": {
          "base_uri": "https://localhost:8080/"
        },
        "id": "gZdX1cJb21sZ",
        "outputId": "c24ce489-8e63-4c63-aaf1-35eccbd2030f"
      },
      "execution_count": 13,
      "outputs": [
        {
          "output_type": "stream",
          "name": "stdout",
          "text": [
            "Masukkan bilangan: 21\n",
            "input n = 21, maka prima terdekat < 21 adalah 19\n"
          ]
        }
      ]
    },
    {
      "cell_type": "code",
      "source": [
        "#Latihan Mandiri 6.2\n",
        "def faktor(n):\n",
        "    hasil = 1\n",
        "    for i in range(1, n + 1):\n",
        "        hasil = hasil * i\n",
        "    return hasil\n",
        "\n",
        "def faktorial(n):\n",
        "    i = bilangan\n",
        "    while i > 0:\n",
        "        print(faktor(i), end=\" \")\n",
        "        for j in range(i, 0, -1):\n",
        "            print(j, end=\" \")\n",
        "        i = i - 1\n",
        "        print()\n",
        "\n",
        "bilangan = int(input(\"bilangan = \"))\n",
        "faktorial(bilangan)\n"
      ],
      "metadata": {
        "colab": {
          "base_uri": "https://localhost:8080/"
        },
        "id": "pmpRKZAB6CvJ",
        "outputId": "cbe47551-64d7-45e7-9023-b80c6194d005"
      },
      "execution_count": 23,
      "outputs": [
        {
          "output_type": "stream",
          "name": "stdout",
          "text": [
            "bilangan = 6\n",
            "720 6 5 4 3 2 1 \n",
            "120 5 4 3 2 1 \n",
            "24 4 3 2 1 \n",
            "6 3 2 1 \n",
            "2 2 1 \n",
            "1 1 \n"
          ]
        }
      ]
    },
    {
      "cell_type": "code",
      "source": [
        "#Latihan Mandiri 6.3\n",
        "def deret(tinggi, lebar):\n",
        "    nilai = 1\n",
        "    for i in range(1, tinggi+1):\n",
        "        for j in range(1, lebar+1):\n",
        "            print(nilai, end=\" \")\n",
        "            nilai = nilai + 1\n",
        "        print()\n",
        "\n",
        "tinggi = int(input(\"Masukkan tinggi deret: \"))\n",
        "lebar = int(input(\"Masukkan lebar deret: \"))\n",
        "\n",
        "deret(tinggi, lebar)\n"
      ],
      "metadata": {
        "colab": {
          "base_uri": "https://localhost:8080/"
        },
        "id": "v5p9Xwa88aF4",
        "outputId": "3a0f39c4-9374-4277-a6fd-58f9e68d1db7"
      },
      "execution_count": 30,
      "outputs": [
        {
          "output_type": "stream",
          "name": "stdout",
          "text": [
            "Masukkan tinggi deret: 5\n",
            "Masukkan lebar deret: 4\n",
            "1 2 3 4 \n",
            "5 6 7 8 \n",
            "9 10 11 12 \n",
            "13 14 15 16 \n",
            "17 18 19 20 \n"
          ]
        }
      ]
    }
  ]
}
