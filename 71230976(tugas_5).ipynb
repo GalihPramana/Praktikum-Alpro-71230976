{
  "nbformat": 4,
  "nbformat_minor": 0,
  "metadata": {
    "colab": {
      "provenance": []
    },
    "kernelspec": {
      "name": "python3",
      "display_name": "Python 3"
    },
    "language_info": {
      "name": "python"
    }
  },
  "cells": [
    {
      "cell_type": "code",
      "source": [
        "#Latihan Mandiri 5.1\n",
        "\n",
        "def perkalian(bil1, bil2):\n",
        "    hasil = 0\n",
        "    print(f\"{bil2} x {bil1} = \", end=\"\")\n",
        "    for i in range(bil2):\n",
        "        hasil += bil1\n",
        "        if i < bil2 - 1:\n",
        "            print(f\"{bil1} + \", end=\"\")\n",
        "        else:\n",
        "            print(f\"{bil1} = \", end=\"\")\n",
        "    return hasil\n",
        "\n",
        "bil1 = int(input(\"Masukkan bilangan yang dikali : \"))\n",
        "bil2 = int(input(\"Masukkan bilangan perkalian : \"))\n",
        "print(perkalian(bil1, bil2))"
      ],
      "metadata": {
        "colab": {
          "base_uri": "https://localhost:8080/"
        },
        "id": "EkEsLvd75MZ8",
        "outputId": "feaa8a0e-fb04-45fe-9082-23ed963bfdde"
      },
      "execution_count": 14,
      "outputs": [
        {
          "output_type": "stream",
          "name": "stdout",
          "text": [
            "Masukkan bilangan yang dikali : 7\n",
            "Masukkan bilangan perkalian : 10\n",
            "10 x 7 = 7 + 7 + 7 + 7 + 7 + 7 + 7 + 7 + 7 + 7 = 70\n"
          ]
        }
      ]
    },
    {
      "cell_type": "code",
      "source": [
        "#Latihan Mandiri 5.2\n",
        "\n",
        "def ganjil(bil1, bil2):\n",
        "    if bil2 > bil1 :\n",
        "        while bil2 != bil1 :\n",
        "            if bil2 % 2 == 1 :\n",
        "                print(bil2, end=\",\")\n",
        "            bil2 = bil2 - 1\n",
        "    else :\n",
        "        while bil2 != bil1 :\n",
        "            bil2 = bil2 + 1\n",
        "            if bil2 % 2 == 1 :\n",
        "                print(bil2, end=\",\")\n",
        "\n",
        "bawah = int(input(\"Masukkan nilai bawah : \"))\n",
        "atas = int(input(\"Masukkan nilai atas : \"))\n",
        "ganjil(atas, bawah)"
      ],
      "metadata": {
        "colab": {
          "base_uri": "https://localhost:8080/"
        },
        "id": "6dmhmASNOpLb",
        "outputId": "3353514b-a37f-4fc4-a2ee-2556ad773f72"
      },
      "execution_count": 17,
      "outputs": [
        {
          "output_type": "stream",
          "name": "stdout",
          "text": [
            "Masukkan nilai bawah : 97\n",
            "Masukkan nilai atas : 82\n",
            "97,95,93,91,89,87,85,83,"
          ]
        }
      ]
    },
    {
      "cell_type": "code",
      "source": [
        "#Latihan Mandiri 5.3\n",
        "\n",
        "def ips(jumlah_matkul):\n",
        "    total_sks = 0\n",
        "    total_bobot = 0\n",
        "\n",
        "    for i in range(jumlah_matkul):\n",
        "        nilai = input(f\"Nilai MK{i + 1}: \")\n",
        "\n",
        "        if nilai == 'A':\n",
        "            bobot = 4\n",
        "        elif nilai == 'B':\n",
        "            bobot = 3\n",
        "        elif nilai == 'C':\n",
        "            bobot = 2\n",
        "        elif nilai == 'D':\n",
        "            bobot = 1\n",
        "\n",
        "        total_sks += 3\n",
        "        total_bobot += bobot * 3\n",
        "\n",
        "    ips = total_bobot / total_sks\n",
        "    return ips\n",
        "\n",
        "jumlah_matkul = int(input(\"Masukkan jumlah mata kuliah: \"))\n",
        "hasil = ips(jumlah_matkul)\n",
        "\n",
        "print(\"Nilai IPS anda semester ini %0.2f\"% hasil)"
      ],
      "metadata": {
        "colab": {
          "base_uri": "https://localhost:8080/"
        },
        "id": "FVcTFplcDhPP",
        "outputId": "c0d20a0c-426b-4f49-f2e8-4dfffd7f0c92"
      },
      "execution_count": 37,
      "outputs": [
        {
          "output_type": "stream",
          "name": "stdout",
          "text": [
            "Masukkan jumlah mata kuliah: 6\n",
            "Nilai MK1: A\n",
            "Nilai MK2: B\n",
            "Nilai MK3: C\n",
            "Nilai MK4: A\n",
            "Nilai MK5: D\n",
            "Nilai MK6: C\n",
            "Nilai IPS anda semester ini 2.67\n"
          ]
        }
      ]
    }
  ]
}