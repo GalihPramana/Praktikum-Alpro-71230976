{
  "nbformat": 4,
  "nbformat_minor": 0,
  "metadata": {
    "colab": {
      "provenance": []
    },
    "kernelspec": {
      "name": "python3",
      "display_name": "Python 3"
    },
    "language_info": {
      "name": "python"
    }
  },
  "cells": [
    {
      "cell_type": "code",
      "source": [
        "\n",
        "#Latihan 4.1\n",
        "def cek_angka(a,b,c):\n",
        "    if a != b and a != c and b != c and ( a + b == c or a + c == b or b + c == a):\n",
        "      return True\n",
        "    else:\n",
        "      return False\n",
        "\n",
        "print(cek_angka(5,3,2))\n",
        "print(cek_angka(1,2,3))\n",
        "print(cek_angka(4,5,4))"
      ],
      "metadata": {
        "colab": {
          "base_uri": "https://localhost:8080/"
        },
        "id": "a6cZGK1Tpcw2",
        "outputId": "4b7b8062-b0be-48a6-a694-68dc1fc4cc95"
      },
      "execution_count": 1,
      "outputs": [
        {
          "output_type": "stream",
          "name": "stdout",
          "text": [
            "True\n",
            "True\n",
            "False\n"
          ]
        }
      ]
    },
    {
      "cell_type": "code",
      "source": [
        "\n",
        "#Latihan 4.1\n",
        "cek_angka = lambda a,b,c: True if (a!=b and a!=c and b!=c and (a + b == c or a + c == b or b + c == a)) else False\n",
        "print(cek_angka(1,2,3))"
      ],
      "metadata": {
        "colab": {
          "base_uri": "https://localhost:8080/"
        },
        "id": "SOnm-6r8uyfd",
        "outputId": "35c6a22c-0609-4da7-dd4c-8075155d07d3"
      },
      "execution_count": null,
      "outputs": [
        {
          "output_type": "stream",
          "name": "stdout",
          "text": [
            "True\n"
          ]
        }
      ]
    },
    {
      "cell_type": "code",
      "source": [
        "#Latihan 4.2\n",
        "\n",
        "def cek_digit_belakang(a,b,c):\n",
        "    a = a%10\n",
        "    b = b%10\n",
        "    c = c%10\n",
        "    if (a == b or a == c or b == c):\n",
        "       return True\n",
        "    else:\n",
        "       return False\n",
        "\n",
        "inputA =int(input(\"Masukkan bilangan a: \"))\n",
        "inputB =int(input(\"Masukkan bilangan b: \"))\n",
        "inputC =int(input(\"Masukkan bilangan c: \"))\n",
        "\n",
        "print(\"Hasil:\", cek_digit_belakang(inputA,inputB,inputC))"
      ],
      "metadata": {
        "id": "6zg8YSxOJ6LD",
        "colab": {
          "base_uri": "https://localhost:8080/"
        },
        "outputId": "139d1aee-1688-4876-84fa-e4bd6bbba1c8"
      },
      "execution_count": 3,
      "outputs": [
        {
          "output_type": "stream",
          "name": "stdout",
          "text": [
            "Masukkan bilangan a: 30\n",
            "Masukkan bilangan b: 20\n",
            "Masukkan bilangan c: 18\n",
            "Hasil: True\n"
          ]
        }
      ]
    },
    {
      "cell_type": "code",
      "source": [
        "#Latihan 4.3\n",
        "celcius_to_farenheit = lambda C: (9/5*C)+32\n",
        "celcius_to_reamur = lambda C:0.8*C\n",
        "\n",
        "print(celcius_to_farenheit(100))\n",
        "print(celcius_to_reamur(80))\n",
        "print(celcius_to_farenheit(0))"
      ],
      "metadata": {
        "colab": {
          "base_uri": "https://localhost:8080/"
        },
        "id": "uRi7iS7iMSXj",
        "outputId": "9024fa0a-e961-4f52-b621-6d0b083defaf"
      },
      "execution_count": null,
      "outputs": [
        {
          "output_type": "stream",
          "name": "stdout",
          "text": [
            "212.0\n",
            "64.0\n",
            "32.0\n"
          ]
        }
      ]
    }
  ]
}
